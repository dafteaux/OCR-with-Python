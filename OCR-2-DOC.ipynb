{
 "cells": [
  {
   "cell_type": "markdown",
   "metadata": {},
   "source": [
    "# OCR with Python"
   ]
  },
  {
   "cell_type": "markdown",
   "metadata": {},
   "source": [
    "Since you are reading this article, you probably need to convert larger amount of screenshots \n",
    "containing some text into actual word document. This is what we call Optical Character Recognition, a.k.a. OCR.\n",
    "\n",
    "Of course, there are many free pages where you upload your file and it will return back pdf or word for you.\n",
    "This is fine if you need to convert say 5 images. But how about a hundred of screenshots? In my experience, that is usually paid service and sometimes you just don't want to pay fortune for some silly things and experiments.\n",
    "\n",
    "I was in the same situation, so read carefully what I did."
   ]
  },
  {
   "cell_type": "markdown",
   "metadata": {},
   "source": [
    "What I needed and is presented here is:\n",
    "    - I had more than 100 screenshots I wanted to convert to text\n",
    "    - At the same time, I wanted to have visual reference as well - in other words, I wanted text and \n",
    "    screenshot next to each other\n",
    "    - Since I wasn't keen on doing this manually, I was looking for way to have this automated"
   ]
  },
  {
   "cell_type": "markdown",
   "metadata": {},
   "source": [
    "# What do we do & What do we need?"
   ]
  },
  {
   "cell_type": "markdown",
   "metadata": {},
   "source": [
    "Approach is very simple:\n",
    "- perform optical character recognition\n",
    "- insert it into word document\n",
    "- insert screenshot itself\n",
    "- repeat\n",
    "\n",
    "For OCR we will use very well working Tesseract engine. Before you proceed further, please go ahead and\n",
    "download latest version of Tesseract in case you don't have it yet. The official GitHub link here: https://github.com/tesseract-ocr/tesseract\n",
    "There are many installation guides, so I will skip the installation part. \n",
    "\n",
    "We will need also cv2 library. And you will see that I have used also beautiful soup but you may not need this one. Please make sure you have installed necessary libraries."
   ]
  },
  {
   "cell_type": "code",
   "execution_count": 97,
   "metadata": {},
   "outputs": [],
   "source": [
    "# IMPORT NECESSARY LIBRARIES\n",
    "\n",
    "import cv2\n",
    "import pytesseract\n",
    "import numpy as np\n",
    "import bs4"
   ]
  },
  {
   "cell_type": "markdown",
   "metadata": {},
   "source": [
    "Since I'm looking for way how to make this OCR task as easy as possible for me, I want to have some function\n",
    "doing the heavy lifting for me.\n",
    "Let's define function called ocr_check. It takes in only path to the file you wish to convert to text"
   ]
  },
  {
   "cell_type": "code",
   "execution_count": 103,
   "metadata": {},
   "outputs": [],
   "source": [
    "def ocr_check(file_path):\n",
    "    \"\"\"\n",
    "    Takes in path to the file for OCR. Then initiates the recognition and returing as list of strings.\n",
    "    !!! Be sure to specify exact location of tesseract.exe file !!!\n",
    "    \"\"\"    \n",
    "    \n",
    "    img = cv2.imread(file_path) # read image\n",
    "    \n",
    "    \"\"\"\n",
    "    # If you have only black/white screenshot, you can leave out the section below\n",
    "    \n",
    "    gray = cv2.cvtColor(img, cv2.COLOR_RGB2GRAY)\n",
    "    gray, img_bin = cv2.threshold(gray,128,255,cv2.THRESH_BINARY | cv2.THRESH_OTSU) # you may adjust parameters\n",
    "    gray = cv2.bitwise_not(img_bin)\n",
    "    \n",
    "    kernel = np.ones((1, 1), np.uint8)\n",
    "    img = cv2.erode(gray, kernel, iterations=1000)# you may adjust parameters\n",
    "    img = cv2.dilate(img, kernel, iterations=1000)# you may adjust parameters\n",
    "    \"\"\"\n",
    "    \n",
    "    pytesseract.pytesseract.tesseract_cmd = r'C:\\\\Program Files\\\\Tesseract-OCR\\\\tesseract.exe'\n",
    "\n",
    "    out_below = pytesseract.image_to_string(img)\n",
    "    \n",
    "    #out_below = bs4.BeautifulSoup(out_below,\"lxml\")\n",
    "    \n",
    "    return out_below.split('\\n')[0:-1]"
   ]
  },
  {
   "cell_type": "markdown",
   "metadata": {},
   "source": [
    "The next steps is to put everything in the loop. We'll use OS and DOCX libraries to help us out.\n",
    "I recomend that you have your script and folder with screenshots in one place. If you want to get current\n",
    "path to current working directory, simply type in pwd as example below. You will need to enter path to the loop."
   ]
  },
  {
   "cell_type": "code",
   "execution_count": 110,
   "metadata": {},
   "outputs": [],
   "source": [
    "pwd"
   ]
  },
  {
   "cell_type": "code",
   "execution_count": 107,
   "metadata": {},
   "outputs": [],
   "source": [
    "import os\n",
    "from docx import Document\n",
    "from docx.shared import Inches\n",
    "\n",
    "# define where are pictures for transformation to docx. I suggest you use pwd and copy/paste\n",
    "path = 'C:\\\\Users\\\\....here you put your path....\\\\pics2docx'\n",
    "\n",
    "# creates list of pictures in the folder\n",
    "pic_list = os.listdir(path) \n",
    "\n",
    "# create Document object\n",
    "document = Document()"
   ]
  },
  {
   "cell_type": "markdown",
   "metadata": {},
   "source": [
    "In the following loop, path for each picture is constructed and then calling methods of Document object\n",
    "we will add firstly text, then screenshot itself and page break. \n",
    "At the end, we save the document under chosen name."
   ]
  },
  {
   "cell_type": "code",
   "execution_count": 108,
   "metadata": {},
   "outputs": [],
   "source": [
    "for picture in pic_list:\n",
    "    \n",
    "    file_to_ocr = path + '\\\\' + picture\n",
    "    \n",
    "    document.add_paragraph(ocr_check(file_to_ocr))\n",
    "    document.add_picture(file_to_ocr, width=Inches(6))\n",
    "    document.add_page_break()\n",
    "\n",
    "document.save('test_of_ocr.docx')"
   ]
  },
  {
   "cell_type": "markdown",
   "metadata": {},
   "source": [
    "# Conclusion"
   ]
  },
  {
   "cell_type": "markdown",
   "metadata": {},
   "source": [
    "In this article you can find easy solution for automated OCR. I was focusing on black/white images but \n",
    "at the end, when working on this solution, I experimented and colored some text. I think that results are \n",
    "pretty good - you may check it in attached word docx."
   ]
  }
 ],
 "metadata": {
  "kernelspec": {
   "display_name": "Python 3",
   "language": "python",
   "name": "python3"
  },
  "language_info": {
   "codemirror_mode": {
    "name": "ipython",
    "version": 3
   },
   "file_extension": ".py",
   "mimetype": "text/x-python",
   "name": "python",
   "nbconvert_exporter": "python",
   "pygments_lexer": "ipython3",
   "version": "3.7.4"
  }
 },
 "nbformat": 4,
 "nbformat_minor": 2
}
